{
 "cells": [
  {
   "cell_type": "code",
   "execution_count": 19,
   "metadata": {},
   "outputs": [],
   "source": [
    "import warnings\n",
    "warnings.filterwarnings(action = \"ignore\")"
   ]
  },
  {
   "cell_type": "code",
   "execution_count": 20,
   "metadata": {},
   "outputs": [],
   "source": [
    "import pandas as pd\n",
    "import numpy as np\n",
    "from sklearn.model_selection import train_test_split\n",
    "from sklearn.ensemble import GradientBoostingClassifier\n",
    "from sklearn.datasets import load_digits\n",
    "from sklearn.metrics import accuracy_score\n",
    "from sklearn.model_selection import KFold, cross_val_score\n",
    "from sklearn.tree import DecisionTreeClassifier\n",
    "from sklearn.svm import SVC\n",
    "from sklearn.naive_bayes import GaussianNB"
   ]
  },
  {
   "cell_type": "code",
   "execution_count": 21,
   "metadata": {},
   "outputs": [],
   "source": [
    "digits = load_digits()\n",
    "X=digits.data\n",
    "y = digits.target"
   ]
  },
  {
   "cell_type": "code",
   "execution_count": 22,
   "metadata": {},
   "outputs": [],
   "source": [
    "X_train,X_test,y_train,y_test = train_test_split(X,y,test_size=0.3,random_state = 7)"
   ]
  },
  {
   "cell_type": "code",
   "execution_count": 24,
   "metadata": {},
   "outputs": [
    {
     "name": "stdout",
     "output_type": "stream",
     "text": [
      "decision tree : acc: 0.8464380952380951 (standard deviation: 0.0263082519743345)\n",
      "svm : acc: 0.37960634920634917 (standard deviation: 0.07880852628087182)\n",
      "naive Bayes : acc: 0.8368761904761906 (standard deviation: 0.03160756851615051)\n"
     ]
    }
   ],
   "source": [
    "models= []\n",
    "models.append((\"decision tree\", DecisionTreeClassifier()))\n",
    "models.append((\"svm\", SVC(gamma = 'auto')))\n",
    "models.append((\"naive Bayes\", GaussianNB()))\n",
    "for name,models in models:\n",
    "    kfold = KFold(n_splits = 10,random_state= 7)\n",
    "    cross_val = cross_val_score(models,X_train,y_train,scoring = \"accuracy\",cv= kfold)\n",
    "    print('{} : acc: {} (standard deviation: {})'.format(name,cross_val.mean(),cross_val.std()))"
   ]
  },
  {
   "cell_type": "code",
   "execution_count": 23,
   "metadata": {},
   "outputs": [
    {
     "name": "stdout",
     "output_type": "stream",
     "text": [
      "decision tree : acc: 0.8536000000000001(standard deviation: 0.027072122442746368)\n",
      "svm : acc: 0.37960634920634917(standard deviation: 0.07880852628087182)\n",
      "naive bayes : acc: 0.8368761904761906(standard deviation: 0.03160756851615051)\n"
     ]
    }
   ],
   "source": [
    "models=[]\n",
    "models.append(('decision tree',DecisionTreeClassifier()))\n",
    "models.append(('svm',SVC(gamma='auto')))\n",
    "models.append(('naive bayes',GaussianNB()))\n",
    "\n",
    "for name,model in models:\n",
    "  kfold=KFold(n_splits=10,random_state=7) \n",
    "  cross_val_sc=cross_val_score(model,X_train,y_train,scoring='accuracy',cv=kfold)\n",
    "  print('{} : acc: {}(standard deviation: {})'.format(name,cross_val_sc.mean(),cross_val_sc.std()))\n"
   ]
  },
  {
   "cell_type": "code",
   "execution_count": 26,
   "metadata": {},
   "outputs": [
    {
     "name": "stdout",
     "output_type": "stream",
     "text": [
      "0.9685185185185186\n"
     ]
    }
   ],
   "source": [
    "gbc = GradientBoostingClassifier(n_estimators=200,learning_rate=0.1)\n",
    "gbc.fit(X_train,y_train)\n",
    "y_pred1 = gbc.predict(X_test)\n",
    "print(accuracy_score(y_test,y_pred1))"
   ]
  },
  {
   "cell_type": "markdown",
   "metadata": {},
   "source": [
    "#### As we can see GradientBoost has increased the accuracy to a good value."
   ]
  },
  {
   "cell_type": "code",
   "execution_count": null,
   "metadata": {},
   "outputs": [],
   "source": []
  }
 ],
 "metadata": {
  "kernelspec": {
   "display_name": "Python 3",
   "language": "python",
   "name": "python3"
  },
  "language_info": {
   "codemirror_mode": {
    "name": "ipython",
    "version": 3
   },
   "file_extension": ".py",
   "mimetype": "text/x-python",
   "name": "python",
   "nbconvert_exporter": "python",
   "pygments_lexer": "ipython3",
   "version": "3.8.3"
  }
 },
 "nbformat": 4,
 "nbformat_minor": 4
}
